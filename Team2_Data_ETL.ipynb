{
  "nbformat": 4,
  "nbformat_minor": 0,
  "metadata": {
    "colab": {
      "name": "INFO7275_Team2_Data_ETL",
      "provenance": [],
      "collapsed_sections": []
    },
    "kernelspec": {
      "name": "python3",
      "display_name": "Python 3"
    },
    "language_info": {
      "name": "python"
    }
  },
  "cells": [
    {
      "cell_type": "markdown",
      "metadata": {
        "id": "QstqH_TpR3rr"
      },
      "source": [
        "### Team 2: China's K12 Online Education Data Management System"
      ]
    },
    {
      "cell_type": "code",
      "metadata": {
        "id": "w3I7FDIY6_NK"
      },
      "source": [
        "import pandas as pd\n",
        "import numpy as np"
      ],
      "execution_count": null,
      "outputs": []
    },
    {
      "cell_type": "markdown",
      "metadata": {
        "id": "TNUFkcSfLO59"
      },
      "source": [
        "### Online Platform Table"
      ]
    },
    {
      "cell_type": "code",
      "metadata": {
        "colab": {
          "base_uri": "https://localhost:8080/",
          "height": 141
        },
        "id": "Ve0grzHpE8k9",
        "outputId": "46d11b2e-6bff-411a-abf4-b31a917c03a9"
      },
      "source": [
        "online_platform = pd.DataFrame(np.array([[1, \"yuanfudao\", \"https://www.yuanfudao.com/\"], \n",
        "                                         [2, \"genshuixue\",\"https://www.genshuixue.com/\"], \n",
        "                                         [3, \"youdao\", \"https://ke.youdao.com/\"]]),\n",
        "                               columns=['platform_id', 'platform_name', 'platform_url'])\n",
        "\n",
        "online_platform"
      ],
      "execution_count": null,
      "outputs": [
        {
          "output_type": "execute_result",
          "data": {
            "text/html": [
              "<div>\n",
              "<style scoped>\n",
              "    .dataframe tbody tr th:only-of-type {\n",
              "        vertical-align: middle;\n",
              "    }\n",
              "\n",
              "    .dataframe tbody tr th {\n",
              "        vertical-align: top;\n",
              "    }\n",
              "\n",
              "    .dataframe thead th {\n",
              "        text-align: right;\n",
              "    }\n",
              "</style>\n",
              "<table border=\"1\" class=\"dataframe\">\n",
              "  <thead>\n",
              "    <tr style=\"text-align: right;\">\n",
              "      <th></th>\n",
              "      <th>platform_id</th>\n",
              "      <th>platform_name</th>\n",
              "      <th>platform_url</th>\n",
              "    </tr>\n",
              "  </thead>\n",
              "  <tbody>\n",
              "    <tr>\n",
              "      <th>0</th>\n",
              "      <td>1</td>\n",
              "      <td>yuanfudao</td>\n",
              "      <td>https://www.yuanfudao.com/</td>\n",
              "    </tr>\n",
              "    <tr>\n",
              "      <th>1</th>\n",
              "      <td>2</td>\n",
              "      <td>genshuixue</td>\n",
              "      <td>https://www.genshuixue.com/</td>\n",
              "    </tr>\n",
              "    <tr>\n",
              "      <th>2</th>\n",
              "      <td>3</td>\n",
              "      <td>youdao</td>\n",
              "      <td>https://ke.youdao.com/</td>\n",
              "    </tr>\n",
              "  </tbody>\n",
              "</table>\n",
              "</div>"
            ],
            "text/plain": [
              "  platform_id platform_name                 platform_url\n",
              "0           1     yuanfudao   https://www.yuanfudao.com/\n",
              "1           2    genshuixue  https://www.genshuixue.com/\n",
              "2           3        youdao       https://ke.youdao.com/"
            ]
          },
          "metadata": {
            "tags": []
          },
          "execution_count": 5
        }
      ]
    },
    {
      "cell_type": "code",
      "metadata": {
        "id": "OW9Rzss61AkR"
      },
      "source": [
        "online_platform.to_csv(\"/content/drive/MyDrive/INFO7275_Advanced_DB/platform_list.csv\",index= False)"
      ],
      "execution_count": null,
      "outputs": []
    },
    {
      "cell_type": "markdown",
      "metadata": {
        "id": "XiMz47Qc-yND"
      },
      "source": [
        "##1） Yuanfudao  Online Platform"
      ]
    },
    {
      "cell_type": "code",
      "metadata": {
        "id": "c-4JrfwH_3E0"
      },
      "source": [
        "grade_rawdata_yuanfudao = pd.read_excel(\"/content/drive/MyDrive/INFO7275_Advanced_DB/yuanfudao_grade.xlsx\")"
      ],
      "execution_count": null,
      "outputs": []
    },
    {
      "cell_type": "code",
      "metadata": {
        "colab": {
          "base_uri": "https://localhost:8080/",
          "height": 434
        },
        "id": "wN2Eb2FtBRUt",
        "outputId": "56f27dde-620c-4e9b-8add-aa5299a78c90"
      },
      "source": [
        "grade_yuanfudao = pd.DataFrame(grade_rawdata_yuanfudao)\n",
        "grade_yuanfudao = grade_yuanfudao[[\"grade_id\",'grade_name']]\n",
        "grade_yuanfudao = grade_yuanfudao.drop_duplicates('grade_id')\n",
        "grade_yuanfudao = grade_yuanfudao[~grade_yuanfudao.grade_name.isin(['中班','大班'])].sort_values('grade_id')\n",
        "print(grade_yuanfudao.grade_name.unique())\n",
        "grade_yuanfudao"
      ],
      "execution_count": null,
      "outputs": [
        {
          "output_type": "stream",
          "text": [
            "['一年级' '二年级' '三年级' '四年级' '五年级' '六年级' '七年级' '八年级' '九年级' '高一' '高二' '高三']\n"
          ],
          "name": "stdout"
        },
        {
          "output_type": "execute_result",
          "data": {
            "text/html": [
              "<div>\n",
              "<style scoped>\n",
              "    .dataframe tbody tr th:only-of-type {\n",
              "        vertical-align: middle;\n",
              "    }\n",
              "\n",
              "    .dataframe tbody tr th {\n",
              "        vertical-align: top;\n",
              "    }\n",
              "\n",
              "    .dataframe thead th {\n",
              "        text-align: right;\n",
              "    }\n",
              "</style>\n",
              "<table border=\"1\" class=\"dataframe\">\n",
              "  <thead>\n",
              "    <tr style=\"text-align: right;\">\n",
              "      <th></th>\n",
              "      <th>grade_id</th>\n",
              "      <th>grade_name</th>\n",
              "    </tr>\n",
              "  </thead>\n",
              "  <tbody>\n",
              "    <tr>\n",
              "      <th>9</th>\n",
              "      <td>1</td>\n",
              "      <td>一年级</td>\n",
              "    </tr>\n",
              "    <tr>\n",
              "      <th>8</th>\n",
              "      <td>2</td>\n",
              "      <td>二年级</td>\n",
              "    </tr>\n",
              "    <tr>\n",
              "      <th>7</th>\n",
              "      <td>3</td>\n",
              "      <td>三年级</td>\n",
              "    </tr>\n",
              "    <tr>\n",
              "      <th>6</th>\n",
              "      <td>4</td>\n",
              "      <td>四年级</td>\n",
              "    </tr>\n",
              "    <tr>\n",
              "      <th>5</th>\n",
              "      <td>5</td>\n",
              "      <td>五年级</td>\n",
              "    </tr>\n",
              "    <tr>\n",
              "      <th>4</th>\n",
              "      <td>6</td>\n",
              "      <td>六年级</td>\n",
              "    </tr>\n",
              "    <tr>\n",
              "      <th>13</th>\n",
              "      <td>7</td>\n",
              "      <td>七年级</td>\n",
              "    </tr>\n",
              "    <tr>\n",
              "      <th>12</th>\n",
              "      <td>8</td>\n",
              "      <td>八年级</td>\n",
              "    </tr>\n",
              "    <tr>\n",
              "      <th>11</th>\n",
              "      <td>9</td>\n",
              "      <td>九年级</td>\n",
              "    </tr>\n",
              "    <tr>\n",
              "      <th>3</th>\n",
              "      <td>10</td>\n",
              "      <td>高一</td>\n",
              "    </tr>\n",
              "    <tr>\n",
              "      <th>2</th>\n",
              "      <td>11</td>\n",
              "      <td>高二</td>\n",
              "    </tr>\n",
              "    <tr>\n",
              "      <th>1</th>\n",
              "      <td>12</td>\n",
              "      <td>高三</td>\n",
              "    </tr>\n",
              "  </tbody>\n",
              "</table>\n",
              "</div>"
            ],
            "text/plain": [
              "    grade_id grade_name\n",
              "9          1        一年级\n",
              "8          2        二年级\n",
              "7          3        三年级\n",
              "6          4        四年级\n",
              "5          5        五年级\n",
              "4          6        六年级\n",
              "13         7        七年级\n",
              "12         8        八年级\n",
              "11         9        九年级\n",
              "3         10         高一\n",
              "2         11         高二\n",
              "1         12         高三"
            ]
          },
          "metadata": {
            "tags": []
          },
          "execution_count": 22
        }
      ]
    },
    {
      "cell_type": "code",
      "metadata": {
        "id": "kVvAUQ270TlT"
      },
      "source": [
        "grade_yuanfudao.to_excel('/content/drive/MyDrive/INFO7275_Advanced_DB/dataset/grade_list.xlsx',index= False)"
      ],
      "execution_count": null,
      "outputs": []
    },
    {
      "cell_type": "code",
      "metadata": {
        "colab": {
          "base_uri": "https://localhost:8080/",
          "height": 369
        },
        "id": "R3Qp837j-w9J",
        "outputId": "e8161734-ff75-45e0-c2c1-9184dcfe37c2"
      },
      "source": [
        "yuanfudao_course = pd.read_excel(\"/content/drive/MyDrive/INFO7275_Advanced_DB/yuanfudao_course.xlsx\")\n",
        "yuanfudao_course.head(3)"
      ],
      "execution_count": null,
      "outputs": [
        {
          "output_type": "execute_result",
          "data": {
            "text/html": [
              "<div>\n",
              "<style scoped>\n",
              "    .dataframe tbody tr th:only-of-type {\n",
              "        vertical-align: middle;\n",
              "    }\n",
              "\n",
              "    .dataframe tbody tr th {\n",
              "        vertical-align: top;\n",
              "    }\n",
              "\n",
              "    .dataframe thead th {\n",
              "        text-align: right;\n",
              "    }\n",
              "</style>\n",
              "<table border=\"1\" class=\"dataframe\">\n",
              "  <thead>\n",
              "    <tr style=\"text-align: right;\">\n",
              "      <th></th>\n",
              "      <th>group_id</th>\n",
              "      <th>grade_id</th>\n",
              "      <th>grade_name</th>\n",
              "      <th>course_id</th>\n",
              "      <th>course_name</th>\n",
              "      <th>course_type</th>\n",
              "      <th>product_id</th>\n",
              "      <th>variant_id</th>\n",
              "      <th>price</th>\n",
              "      <th>quantity</th>\n",
              "      <th>sold_count</th>\n",
              "      <th>pre_sale_time</th>\n",
              "      <th>start_sale_time</th>\n",
              "      <th>end_sale_time</th>\n",
              "      <th>original_price</th>\n",
              "      <th>left_count</th>\n",
              "      <th>sold_out</th>\n",
              "      <th>start_time</th>\n",
              "      <th>end_time</th>\n",
              "      <th>display_start_time</th>\n",
              "      <th>display_end_time</th>\n",
              "      <th>sub_name</th>\n",
              "      <th>recommended</th>\n",
              "      <th>as_group</th>\n",
              "      <th>label</th>\n",
              "      <th>teacher</th>\n",
              "      <th>subject</th>\n",
              "      <th>episode_count</th>\n",
              "      <th>run_id</th>\n",
              "      <th>__id</th>\n",
              "    </tr>\n",
              "  </thead>\n",
              "  <tbody>\n",
              "    <tr>\n",
              "      <th>0</th>\n",
              "      <td>NaN</td>\n",
              "      <td>99</td>\n",
              "      <td>中班</td>\n",
              "      <td>5078419.0</td>\n",
              "      <td>幼儿园中班数学能力与专注力春季系统班（周五、周日19:30）</td>\n",
              "      <td>lesson</td>\n",
              "      <td>19654271</td>\n",
              "      <td>14378097</td>\n",
              "      <td>1400</td>\n",
              "      <td>33</td>\n",
              "      <td>32</td>\n",
              "      <td>2020-11-11</td>\n",
              "      <td>2020-11-11</td>\n",
              "      <td>2021-04-05</td>\n",
              "      <td>0</td>\n",
              "      <td>1</td>\n",
              "      <td>0</td>\n",
              "      <td>2021-03-05</td>\n",
              "      <td>2021-06-13</td>\n",
              "      <td>2021-06-13</td>\n",
              "      <td>2021-06-13</td>\n",
              "      <td>3月5日-6月13日 · 每周五日19:30上课</td>\n",
              "      <td>0</td>\n",
              "      <td>0</td>\n",
              "      <td>系统班</td>\n",
              "      <td>李蒙蒙|张思思</td>\n",
              "      <td>数学</td>\n",
              "      <td>44</td>\n",
              "      <td>2021-03-21</td>\n",
              "      <td>711438</td>\n",
              "    </tr>\n",
              "    <tr>\n",
              "      <th>1</th>\n",
              "      <td>NaN</td>\n",
              "      <td>99</td>\n",
              "      <td>中班</td>\n",
              "      <td>4943315.0</td>\n",
              "      <td>幼儿园中班数学能力与专注力春季系统班（周四、周日18:30）</td>\n",
              "      <td>lesson</td>\n",
              "      <td>19516905</td>\n",
              "      <td>16714371</td>\n",
              "      <td>1400</td>\n",
              "      <td>30</td>\n",
              "      <td>23</td>\n",
              "      <td>2020-11-11</td>\n",
              "      <td>2020-11-11</td>\n",
              "      <td>2021-04-05</td>\n",
              "      <td>0</td>\n",
              "      <td>7</td>\n",
              "      <td>0</td>\n",
              "      <td>2021-03-04</td>\n",
              "      <td>2021-06-13</td>\n",
              "      <td>2021-06-13</td>\n",
              "      <td>2021-06-13</td>\n",
              "      <td>3月4日-6月13日 · 每周四日18:30上课</td>\n",
              "      <td>0</td>\n",
              "      <td>0</td>\n",
              "      <td>系统班</td>\n",
              "      <td>刘美辰|金菊</td>\n",
              "      <td>数学</td>\n",
              "      <td>44</td>\n",
              "      <td>2021-03-21</td>\n",
              "      <td>711437</td>\n",
              "    </tr>\n",
              "    <tr>\n",
              "      <th>2</th>\n",
              "      <td>NaN</td>\n",
              "      <td>99</td>\n",
              "      <td>中班</td>\n",
              "      <td>4943313.0</td>\n",
              "      <td>幼儿园中班数学能力与专注力春季系统班（周一、周四18:30）</td>\n",
              "      <td>lesson</td>\n",
              "      <td>19516903</td>\n",
              "      <td>15079013</td>\n",
              "      <td>1400</td>\n",
              "      <td>32</td>\n",
              "      <td>32</td>\n",
              "      <td>2020-11-11</td>\n",
              "      <td>2020-11-11</td>\n",
              "      <td>2021-04-05</td>\n",
              "      <td>0</td>\n",
              "      <td>0</td>\n",
              "      <td>1</td>\n",
              "      <td>2021-03-01</td>\n",
              "      <td>2021-06-10</td>\n",
              "      <td>2021-06-10</td>\n",
              "      <td>2021-06-10</td>\n",
              "      <td>3月1日-6月10日 · 每周一四18:30上课</td>\n",
              "      <td>0</td>\n",
              "      <td>0</td>\n",
              "      <td>系统班</td>\n",
              "      <td>陈静仪|陈缘</td>\n",
              "      <td>数学</td>\n",
              "      <td>44</td>\n",
              "      <td>2021-03-21</td>\n",
              "      <td>711436</td>\n",
              "    </tr>\n",
              "  </tbody>\n",
              "</table>\n",
              "</div>"
            ],
            "text/plain": [
              "   group_id  grade_id grade_name  ...  episode_count     run_id    __id\n",
              "0       NaN        99         中班  ...             44 2021-03-21  711438\n",
              "1       NaN        99         中班  ...             44 2021-03-21  711437\n",
              "2       NaN        99         中班  ...             44 2021-03-21  711436\n",
              "\n",
              "[3 rows x 30 columns]"
            ]
          },
          "metadata": {
            "tags": []
          },
          "execution_count": 78
        }
      ]
    },
    {
      "cell_type": "code",
      "metadata": {
        "colab": {
          "base_uri": "https://localhost:8080/",
          "height": 325
        },
        "id": "HhjFMrQ0MEPz",
        "outputId": "059facd6-d5d6-480d-9158-1c64b77a051a"
      },
      "source": [
        "yuanfudao_course = pd.read_excel(\"/content/drive/MyDrive/INFO7275_Advanced_DB/yuanfudao_course.xlsx\")\n",
        "yuanfudao_course.head(3)\n",
        "subject_yuanfudao = pd.DataFrame(yuanfudao_course.subject.unique())\n",
        "subject_yuanfudao.reset_index(inplace=True)\n",
        "subject_yuanfudao = subject_yuanfudao.rename(columns={\"index\": \"subject_id\",0:\"subject_name\"})\n",
        "subject_yuanfudao"
      ],
      "execution_count": null,
      "outputs": [
        {
          "output_type": "execute_result",
          "data": {
            "text/html": [
              "<div>\n",
              "<style scoped>\n",
              "    .dataframe tbody tr th:only-of-type {\n",
              "        vertical-align: middle;\n",
              "    }\n",
              "\n",
              "    .dataframe tbody tr th {\n",
              "        vertical-align: top;\n",
              "    }\n",
              "\n",
              "    .dataframe thead th {\n",
              "        text-align: right;\n",
              "    }\n",
              "</style>\n",
              "<table border=\"1\" class=\"dataframe\">\n",
              "  <thead>\n",
              "    <tr style=\"text-align: right;\">\n",
              "      <th></th>\n",
              "      <th>subject_id</th>\n",
              "      <th>subject_name</th>\n",
              "    </tr>\n",
              "  </thead>\n",
              "  <tbody>\n",
              "    <tr>\n",
              "      <th>0</th>\n",
              "      <td>0</td>\n",
              "      <td>数学</td>\n",
              "    </tr>\n",
              "    <tr>\n",
              "      <th>1</th>\n",
              "      <td>1</td>\n",
              "      <td>政治</td>\n",
              "    </tr>\n",
              "    <tr>\n",
              "      <th>2</th>\n",
              "      <td>2</td>\n",
              "      <td>地理</td>\n",
              "    </tr>\n",
              "    <tr>\n",
              "      <th>3</th>\n",
              "      <td>3</td>\n",
              "      <td>历史</td>\n",
              "    </tr>\n",
              "    <tr>\n",
              "      <th>4</th>\n",
              "      <td>4</td>\n",
              "      <td>生物</td>\n",
              "    </tr>\n",
              "    <tr>\n",
              "      <th>5</th>\n",
              "      <td>5</td>\n",
              "      <td>化学</td>\n",
              "    </tr>\n",
              "    <tr>\n",
              "      <th>6</th>\n",
              "      <td>6</td>\n",
              "      <td>物理</td>\n",
              "    </tr>\n",
              "    <tr>\n",
              "      <th>7</th>\n",
              "      <td>7</td>\n",
              "      <td>英语</td>\n",
              "    </tr>\n",
              "    <tr>\n",
              "      <th>8</th>\n",
              "      <td>8</td>\n",
              "      <td>语文</td>\n",
              "    </tr>\n",
              "  </tbody>\n",
              "</table>\n",
              "</div>"
            ],
            "text/plain": [
              "   subject_id subject_name\n",
              "0           0           数学\n",
              "1           1           政治\n",
              "2           2           地理\n",
              "3           3           历史\n",
              "4           4           生物\n",
              "5           5           化学\n",
              "6           6           物理\n",
              "7           7           英语\n",
              "8           8           语文"
            ]
          },
          "metadata": {
            "tags": []
          },
          "execution_count": 27
        }
      ]
    },
    {
      "cell_type": "markdown",
      "metadata": {
        "id": "Y7W6f8KzRkjq"
      },
      "source": [
        "Teacher data cleaning:"
      ]
    },
    {
      "cell_type": "code",
      "metadata": {
        "id": "A7cYwF1utnmE"
      },
      "source": [
        "teacher_yuanfudao_rawdata = pd.read_excel('/content/drive/MyDrive/INFO7275_Advanced_DB/dataset/yuanfudao_course_2020.xlsx')\n",
        "teacher_yuanfudao = pd.DataFrame(teacher_yuanfudao_rawdata)[['course_id','teacher']]\n",
        "teacher_yuanfudao[['teacher1','teacher2']] = teacher_yuanfudao.teacher.str.split(\"|\",expand = True).iloc[:,0:2]\n",
        "teacher_yuanfudao = teacher_yuanfudao.drop(columns = 'teacher')"
      ],
      "execution_count": null,
      "outputs": []
    },
    {
      "cell_type": "code",
      "metadata": {
        "id": "hP20n62uNmTz"
      },
      "source": [
        "teacher_list=  pd.DataFrame(np.concatenate((teacher_yuanfudao.iloc[:,[0,1]],teacher_yuanfudao.iloc[:,[0,2]])),columns = ['course_id','teacher'])\n",
        "teacher_list = teacher_list[~teacher_list.teacher.isin(['班主任','主讲老师'])]\n",
        "teacher_list = pd.DataFrame(teacher_list)[['teacher']].drop_duplicates('teacher')\n",
        "teacher_list = teacher_list.drop_duplicates('teacher')\n",
        "teacher_list.reset_index(inplace = True)\n",
        "teacher_list = teacher_list.rename(columns={\"index\": \"teacher_id\",\"teacher\":\"teacher_name\"})"
      ],
      "execution_count": null,
      "outputs": []
    },
    {
      "cell_type": "code",
      "metadata": {
        "id": "goC7Ar1M2mEO"
      },
      "source": [
        "teacher_list.to_excel('/content/drive/MyDrive/INFO7275_Advanced_DB/dataset/teacher_info.xlsx',index = False)"
      ],
      "execution_count": null,
      "outputs": []
    },
    {
      "cell_type": "code",
      "metadata": {
        "colab": {
          "base_uri": "https://localhost:8080/",
          "height": 141
        },
        "id": "iOcC1Qqv0lYr",
        "outputId": "e6674780-3c7e-4fc8-83b6-a19e15e16a39"
      },
      "source": [
        "teacher_list.head(3)"
      ],
      "execution_count": null,
      "outputs": [
        {
          "output_type": "execute_result",
          "data": {
            "text/html": [
              "<div>\n",
              "<style scoped>\n",
              "    .dataframe tbody tr th:only-of-type {\n",
              "        vertical-align: middle;\n",
              "    }\n",
              "\n",
              "    .dataframe tbody tr th {\n",
              "        vertical-align: top;\n",
              "    }\n",
              "\n",
              "    .dataframe thead th {\n",
              "        text-align: right;\n",
              "    }\n",
              "</style>\n",
              "<table border=\"1\" class=\"dataframe\">\n",
              "  <thead>\n",
              "    <tr style=\"text-align: right;\">\n",
              "      <th></th>\n",
              "      <th>teacher_id</th>\n",
              "      <th>teacher_name</th>\n",
              "    </tr>\n",
              "  </thead>\n",
              "  <tbody>\n",
              "    <tr>\n",
              "      <th>0</th>\n",
              "      <td>0</td>\n",
              "      <td>刘薇</td>\n",
              "    </tr>\n",
              "    <tr>\n",
              "      <th>1</th>\n",
              "      <td>1</td>\n",
              "      <td>程磊</td>\n",
              "    </tr>\n",
              "    <tr>\n",
              "      <th>2</th>\n",
              "      <td>2</td>\n",
              "      <td>严攀</td>\n",
              "    </tr>\n",
              "  </tbody>\n",
              "</table>\n",
              "</div>"
            ],
            "text/plain": [
              "   teacher_id teacher_name\n",
              "0           0           刘薇\n",
              "1           1           程磊\n",
              "2           2           严攀"
            ]
          },
          "metadata": {
            "tags": []
          },
          "execution_count": 111
        }
      ]
    },
    {
      "cell_type": "markdown",
      "metadata": {
        "id": "zg7CLhfK4A-t"
      },
      "source": [
        "Sales table"
      ]
    },
    {
      "cell_type": "code",
      "metadata": {
        "colab": {
          "base_uri": "https://localhost:8080/",
          "height": 369
        },
        "id": "AMmuXSn04AjF",
        "outputId": "9979182c-d10f-4ac0-c34f-151f234b5b5d"
      },
      "source": [
        "rawdata = pd.read_excel('/content/drive/MyDrive/INFO7275_Advanced_DB/dataset/yuanfudao_course_2020.xlsx')\n",
        "rawdata.head(3)\n"
      ],
      "execution_count": null,
      "outputs": [
        {
          "output_type": "execute_result",
          "data": {
            "text/html": [
              "<div>\n",
              "<style scoped>\n",
              "    .dataframe tbody tr th:only-of-type {\n",
              "        vertical-align: middle;\n",
              "    }\n",
              "\n",
              "    .dataframe tbody tr th {\n",
              "        vertical-align: top;\n",
              "    }\n",
              "\n",
              "    .dataframe thead th {\n",
              "        text-align: right;\n",
              "    }\n",
              "</style>\n",
              "<table border=\"1\" class=\"dataframe\">\n",
              "  <thead>\n",
              "    <tr style=\"text-align: right;\">\n",
              "      <th></th>\n",
              "      <th>group_id</th>\n",
              "      <th>grade_id</th>\n",
              "      <th>grade_name</th>\n",
              "      <th>course_id</th>\n",
              "      <th>course_name</th>\n",
              "      <th>course_type</th>\n",
              "      <th>product_id</th>\n",
              "      <th>variant_id</th>\n",
              "      <th>price</th>\n",
              "      <th>quantity</th>\n",
              "      <th>sold_count</th>\n",
              "      <th>pre_sale_time</th>\n",
              "      <th>start_sale_time</th>\n",
              "      <th>end_sale_time</th>\n",
              "      <th>original_price</th>\n",
              "      <th>left_count</th>\n",
              "      <th>sold_out</th>\n",
              "      <th>start_time</th>\n",
              "      <th>end_time</th>\n",
              "      <th>display_start_time</th>\n",
              "      <th>display_end_time</th>\n",
              "      <th>sub_name</th>\n",
              "      <th>recommended</th>\n",
              "      <th>as_group</th>\n",
              "      <th>label</th>\n",
              "      <th>teacher</th>\n",
              "      <th>subject</th>\n",
              "      <th>episode_count</th>\n",
              "      <th>run_id</th>\n",
              "      <th>__id</th>\n",
              "    </tr>\n",
              "  </thead>\n",
              "  <tbody>\n",
              "    <tr>\n",
              "      <th>0</th>\n",
              "      <td>18657.0</td>\n",
              "      <td>11</td>\n",
              "      <td>高二</td>\n",
              "      <td>NaN</td>\n",
              "      <td>高二语文春季系统班-正在报名</td>\n",
              "      <td>bundleSystematic</td>\n",
              "      <td>0</td>\n",
              "      <td>0</td>\n",
              "      <td>599</td>\n",
              "      <td>14000</td>\n",
              "      <td>5181</td>\n",
              "      <td>NaN</td>\n",
              "      <td>NaN</td>\n",
              "      <td>2020-04-06</td>\n",
              "      <td>0</td>\n",
              "      <td>0</td>\n",
              "      <td>0</td>\n",
              "      <td>2020-02-23</td>\n",
              "      <td>2020-06-14</td>\n",
              "      <td>2020-06-14</td>\n",
              "      <td>2020-06-14</td>\n",
              "      <td>2月23日-6月7日 · 周日13:00上课</td>\n",
              "      <td>0</td>\n",
              "      <td>0</td>\n",
              "      <td>系统班</td>\n",
              "      <td>刘薇</td>\n",
              "      <td>语文</td>\n",
              "      <td>23.0</td>\n",
              "      <td>2020-02-15</td>\n",
              "      <td>303800</td>\n",
              "    </tr>\n",
              "    <tr>\n",
              "      <th>1</th>\n",
              "      <td>19595.0</td>\n",
              "      <td>11</td>\n",
              "      <td>高二</td>\n",
              "      <td>NaN</td>\n",
              "      <td>【目标清北班】高二数学春季系统班-正在报名</td>\n",
              "      <td>bundleSystematic</td>\n",
              "      <td>0</td>\n",
              "      <td>0</td>\n",
              "      <td>599</td>\n",
              "      <td>2000</td>\n",
              "      <td>1506</td>\n",
              "      <td>NaN</td>\n",
              "      <td>NaN</td>\n",
              "      <td>2020-04-06</td>\n",
              "      <td>0</td>\n",
              "      <td>0</td>\n",
              "      <td>0</td>\n",
              "      <td>2020-02-22</td>\n",
              "      <td>2020-06-13</td>\n",
              "      <td>2020-06-13</td>\n",
              "      <td>2020-06-13</td>\n",
              "      <td>2月23日-6月7日 · 周六21:30上课</td>\n",
              "      <td>0</td>\n",
              "      <td>0</td>\n",
              "      <td>系统班</td>\n",
              "      <td>程磊</td>\n",
              "      <td>数学</td>\n",
              "      <td>23.0</td>\n",
              "      <td>2020-02-15</td>\n",
              "      <td>303801</td>\n",
              "    </tr>\n",
              "    <tr>\n",
              "      <th>2</th>\n",
              "      <td>19597.0</td>\n",
              "      <td>11</td>\n",
              "      <td>高二</td>\n",
              "      <td>NaN</td>\n",
              "      <td>高二数学春季系统班-正在报名</td>\n",
              "      <td>bundleSystematic</td>\n",
              "      <td>0</td>\n",
              "      <td>0</td>\n",
              "      <td>599</td>\n",
              "      <td>22000</td>\n",
              "      <td>12750</td>\n",
              "      <td>NaN</td>\n",
              "      <td>NaN</td>\n",
              "      <td>2020-04-06</td>\n",
              "      <td>0</td>\n",
              "      <td>0</td>\n",
              "      <td>0</td>\n",
              "      <td>2020-02-22</td>\n",
              "      <td>2020-06-13</td>\n",
              "      <td>2020-06-13</td>\n",
              "      <td>2020-06-13</td>\n",
              "      <td>2月22日-6月6日 · 周六19:00上课</td>\n",
              "      <td>0</td>\n",
              "      <td>0</td>\n",
              "      <td>系统班</td>\n",
              "      <td>严攀</td>\n",
              "      <td>数学</td>\n",
              "      <td>23.0</td>\n",
              "      <td>2020-02-15</td>\n",
              "      <td>303802</td>\n",
              "    </tr>\n",
              "  </tbody>\n",
              "</table>\n",
              "</div>"
            ],
            "text/plain": [
              "   group_id  grade_id grade_name  ...  episode_count     run_id    __id\n",
              "0   18657.0        11         高二  ...           23.0 2020-02-15  303800\n",
              "1   19595.0        11         高二  ...           23.0 2020-02-15  303801\n",
              "2   19597.0        11         高二  ...           23.0 2020-02-15  303802\n",
              "\n",
              "[3 rows x 30 columns]"
            ]
          },
          "metadata": {
            "tags": []
          },
          "execution_count": 112
        }
      ]
    },
    {
      "cell_type": "code",
      "metadata": {
        "id": "zXjQMK9B4T7Z"
      },
      "source": [
        "rawdata = pd.DataFrame(rawdata)\n",
        "sales_data = rawdata[['course_id','price','original_price','quantity','sold_count','pre_sale_time','start_sale_time','end_sale_time','left_count','sold_out']]\n",
        "sales_data = sales_data[pd.notnull(sales_data[\"course_id\"])]\n",
        "sales_data = sales_data.drop_duplicates('course_id')"
      ],
      "execution_count": null,
      "outputs": []
    },
    {
      "cell_type": "code",
      "metadata": {
        "id": "flFHW-415DDe"
      },
      "source": [
        "sales_data.to_excel('/content/drive/MyDrive/INFO7275_Advanced_DB/dataset/sales_info.xlsx',index = False)"
      ],
      "execution_count": null,
      "outputs": []
    },
    {
      "cell_type": "markdown",
      "metadata": {
        "id": "k2zdP3XE_ana"
      },
      "source": [
        "Course data cleaning"
      ]
    },
    {
      "cell_type": "code",
      "metadata": {
        "id": "4AIHpwpG_e86"
      },
      "source": [
        "course_yuanfudao = pd.DataFrame(rawdata)[['grade_id','grade_name','course_id','course_name','subject','start_time','end_time','episode_count','run_id']]\n",
        "course_yuanfudao.rename(columns={\"episode_count\": \"lesson_num\",\"subject\":\"subject_name\"},inplace= True)"
      ],
      "execution_count": 275,
      "outputs": []
    },
    {
      "cell_type": "code",
      "metadata": {
        "id": "425UTRPdBAqK"
      },
      "source": [
        "course_yuanfudao = course_yuanfudao[pd.notnull(course_yuanfudao[\"course_id\"])]\n",
        "course_yuanfudao['run_id'] = pd.to_datetime(course_yuanfudao['run_id']).astype(str)\n",
        "course_yuanfudao['month'] = course_yuanfudao[\"run_id\"].str[0:7]\n",
        "#remove duplicated data \n",
        "course_yuanfudao = course_yuanfudao.drop_duplicates(['course_id','month'])\n",
        "course_yuanfudao = course_yuanfudao.drop(columns='month')"
      ],
      "execution_count": 276,
      "outputs": []
    },
    {
      "cell_type": "code",
      "metadata": {
        "colab": {
          "base_uri": "https://localhost:8080/",
          "height": 202
        },
        "id": "3m6sms7MDUGG",
        "outputId": "92ca2b0b-9950-4ab3-c69b-2fe708dbd401"
      },
      "source": [
        "course_yuanfudao.head()"
      ],
      "execution_count": 277,
      "outputs": [
        {
          "output_type": "execute_result",
          "data": {
            "text/html": [
              "<div>\n",
              "<style scoped>\n",
              "    .dataframe tbody tr th:only-of-type {\n",
              "        vertical-align: middle;\n",
              "    }\n",
              "\n",
              "    .dataframe tbody tr th {\n",
              "        vertical-align: top;\n",
              "    }\n",
              "\n",
              "    .dataframe thead th {\n",
              "        text-align: right;\n",
              "    }\n",
              "</style>\n",
              "<table border=\"1\" class=\"dataframe\">\n",
              "  <thead>\n",
              "    <tr style=\"text-align: right;\">\n",
              "      <th></th>\n",
              "      <th>grade_id</th>\n",
              "      <th>grade_name</th>\n",
              "      <th>course_id</th>\n",
              "      <th>course_name</th>\n",
              "      <th>subject_name</th>\n",
              "      <th>start_time</th>\n",
              "      <th>end_time</th>\n",
              "      <th>lesson_num</th>\n",
              "      <th>run_id</th>\n",
              "    </tr>\n",
              "  </thead>\n",
              "  <tbody>\n",
              "    <tr>\n",
              "      <th>46</th>\n",
              "      <td>7</td>\n",
              "      <td>七年级</td>\n",
              "      <td>3511191.0</td>\n",
              "      <td>初一语文题型技巧特训班</td>\n",
              "      <td>语文</td>\n",
              "      <td>2020-03-07</td>\n",
              "      <td>2020-03-10</td>\n",
              "      <td>7.0</td>\n",
              "      <td>2020-02-15</td>\n",
              "    </tr>\n",
              "    <tr>\n",
              "      <th>47</th>\n",
              "      <td>7</td>\n",
              "      <td>七年级</td>\n",
              "      <td>3163273.0</td>\n",
              "      <td>初一语文春季系统班（周五18:00）</td>\n",
              "      <td>语文</td>\n",
              "      <td>2020-02-21</td>\n",
              "      <td>2020-06-19</td>\n",
              "      <td>36.0</td>\n",
              "      <td>2020-02-15</td>\n",
              "    </tr>\n",
              "    <tr>\n",
              "      <th>48</th>\n",
              "      <td>7</td>\n",
              "      <td>七年级</td>\n",
              "      <td>3163275.0</td>\n",
              "      <td>初一语文春季系统班（周六09:00）</td>\n",
              "      <td>语文</td>\n",
              "      <td>2020-02-22</td>\n",
              "      <td>2020-06-20</td>\n",
              "      <td>36.0</td>\n",
              "      <td>2020-02-15</td>\n",
              "    </tr>\n",
              "    <tr>\n",
              "      <th>49</th>\n",
              "      <td>7</td>\n",
              "      <td>七年级</td>\n",
              "      <td>3163277.0</td>\n",
              "      <td>初一语文春季系统班（周六14:00）</td>\n",
              "      <td>语文</td>\n",
              "      <td>2020-02-22</td>\n",
              "      <td>2020-06-20</td>\n",
              "      <td>36.0</td>\n",
              "      <td>2020-02-15</td>\n",
              "    </tr>\n",
              "    <tr>\n",
              "      <th>50</th>\n",
              "      <td>7</td>\n",
              "      <td>七年级</td>\n",
              "      <td>3163279.0</td>\n",
              "      <td>初一语文春季系统班（周六14:00）</td>\n",
              "      <td>语文</td>\n",
              "      <td>2020-02-22</td>\n",
              "      <td>2020-06-20</td>\n",
              "      <td>36.0</td>\n",
              "      <td>2020-02-15</td>\n",
              "    </tr>\n",
              "  </tbody>\n",
              "</table>\n",
              "</div>"
            ],
            "text/plain": [
              "    grade_id grade_name  course_id  ...    end_time lesson_num      run_id\n",
              "46         7        七年级  3511191.0  ...  2020-03-10        7.0  2020-02-15\n",
              "47         7        七年级  3163273.0  ...  2020-06-19       36.0  2020-02-15\n",
              "48         7        七年级  3163275.0  ...  2020-06-20       36.0  2020-02-15\n",
              "49         7        七年级  3163277.0  ...  2020-06-20       36.0  2020-02-15\n",
              "50         7        七年级  3163279.0  ...  2020-06-20       36.0  2020-02-15\n",
              "\n",
              "[5 rows x 9 columns]"
            ]
          },
          "metadata": {
            "tags": []
          },
          "execution_count": 277
        }
      ]
    },
    {
      "cell_type": "code",
      "metadata": {
        "colab": {
          "base_uri": "https://localhost:8080/",
          "height": 141
        },
        "id": "Ndp4iaIWEYb8",
        "outputId": "23158297-20e5-4ac4-9826-4501ef4bafd9"
      },
      "source": [
        "#course vs teacher_id\n",
        "course_teacher =  pd.DataFrame(np.concatenate((teacher_yuanfudao.iloc[:,[0,1]],teacher_yuanfudao.iloc[:,[0,2]])),columns = ['course_id','teacher'])\n",
        "course_teacher = course_teacher[pd.notnull(course_teacher['course_id'])]\n",
        "course_teacher = course_teacher[~course_teacher.teacher.isin(['班主任','主讲老师'])]\n",
        "course_teacher = course_teacher.drop_duplicates('course_id')\n",
        "course_teacher =  pd.merge(left = course_teacher, right = teacher_list, how = 'left', left_on='teacher', right_on='teacher_name')\n",
        "course_teacher = course_teacher[['course_id','teacher_id']]\n",
        "course_teacher.head(3)"
      ],
      "execution_count": 278,
      "outputs": [
        {
          "output_type": "execute_result",
          "data": {
            "text/html": [
              "<div>\n",
              "<style scoped>\n",
              "    .dataframe tbody tr th:only-of-type {\n",
              "        vertical-align: middle;\n",
              "    }\n",
              "\n",
              "    .dataframe tbody tr th {\n",
              "        vertical-align: top;\n",
              "    }\n",
              "\n",
              "    .dataframe thead th {\n",
              "        text-align: right;\n",
              "    }\n",
              "</style>\n",
              "<table border=\"1\" class=\"dataframe\">\n",
              "  <thead>\n",
              "    <tr style=\"text-align: right;\">\n",
              "      <th></th>\n",
              "      <th>course_id</th>\n",
              "      <th>teacher_id</th>\n",
              "    </tr>\n",
              "  </thead>\n",
              "  <tbody>\n",
              "    <tr>\n",
              "      <th>0</th>\n",
              "      <td>3.51119e+06</td>\n",
              "      <td>46</td>\n",
              "    </tr>\n",
              "    <tr>\n",
              "      <th>1</th>\n",
              "      <td>3.16327e+06</td>\n",
              "      <td>46</td>\n",
              "    </tr>\n",
              "    <tr>\n",
              "      <th>2</th>\n",
              "      <td>3.16328e+06</td>\n",
              "      <td>46</td>\n",
              "    </tr>\n",
              "  </tbody>\n",
              "</table>\n",
              "</div>"
            ],
            "text/plain": [
              "     course_id  teacher_id\n",
              "0  3.51119e+06          46\n",
              "1  3.16327e+06          46\n",
              "2  3.16328e+06          46"
            ]
          },
          "metadata": {
            "tags": []
          },
          "execution_count": 278
        }
      ]
    },
    {
      "cell_type": "code",
      "metadata": {
        "id": "AjnsetsTMear"
      },
      "source": [
        "#merge course_info and course_teacher\n",
        "course_info = pd.merge(left = course_yuanfudao, right = course_teacher, how = 'left', on = 'course_id')"
      ],
      "execution_count": 279,
      "outputs": []
    },
    {
      "cell_type": "code",
      "metadata": {
        "colab": {
          "base_uri": "https://localhost:8080/",
          "height": 141
        },
        "id": "4R5tkG7LNEET",
        "outputId": "70518fbe-33bf-444a-93eb-f6b5d6df8bee"
      },
      "source": [
        "course_info.head(3)"
      ],
      "execution_count": 280,
      "outputs": [
        {
          "output_type": "execute_result",
          "data": {
            "text/html": [
              "<div>\n",
              "<style scoped>\n",
              "    .dataframe tbody tr th:only-of-type {\n",
              "        vertical-align: middle;\n",
              "    }\n",
              "\n",
              "    .dataframe tbody tr th {\n",
              "        vertical-align: top;\n",
              "    }\n",
              "\n",
              "    .dataframe thead th {\n",
              "        text-align: right;\n",
              "    }\n",
              "</style>\n",
              "<table border=\"1\" class=\"dataframe\">\n",
              "  <thead>\n",
              "    <tr style=\"text-align: right;\">\n",
              "      <th></th>\n",
              "      <th>grade_id</th>\n",
              "      <th>grade_name</th>\n",
              "      <th>course_id</th>\n",
              "      <th>course_name</th>\n",
              "      <th>subject_name</th>\n",
              "      <th>start_time</th>\n",
              "      <th>end_time</th>\n",
              "      <th>lesson_num</th>\n",
              "      <th>run_id</th>\n",
              "      <th>teacher_id</th>\n",
              "    </tr>\n",
              "  </thead>\n",
              "  <tbody>\n",
              "    <tr>\n",
              "      <th>0</th>\n",
              "      <td>7</td>\n",
              "      <td>七年级</td>\n",
              "      <td>3.51119e+06</td>\n",
              "      <td>初一语文题型技巧特训班</td>\n",
              "      <td>语文</td>\n",
              "      <td>2020-03-07</td>\n",
              "      <td>2020-03-10</td>\n",
              "      <td>7.0</td>\n",
              "      <td>2020-02-15</td>\n",
              "      <td>46.0</td>\n",
              "    </tr>\n",
              "    <tr>\n",
              "      <th>1</th>\n",
              "      <td>7</td>\n",
              "      <td>七年级</td>\n",
              "      <td>3.16327e+06</td>\n",
              "      <td>初一语文春季系统班（周五18:00）</td>\n",
              "      <td>语文</td>\n",
              "      <td>2020-02-21</td>\n",
              "      <td>2020-06-19</td>\n",
              "      <td>36.0</td>\n",
              "      <td>2020-02-15</td>\n",
              "      <td>46.0</td>\n",
              "    </tr>\n",
              "    <tr>\n",
              "      <th>2</th>\n",
              "      <td>7</td>\n",
              "      <td>七年级</td>\n",
              "      <td>3.16328e+06</td>\n",
              "      <td>初一语文春季系统班（周六09:00）</td>\n",
              "      <td>语文</td>\n",
              "      <td>2020-02-22</td>\n",
              "      <td>2020-06-20</td>\n",
              "      <td>36.0</td>\n",
              "      <td>2020-02-15</td>\n",
              "      <td>46.0</td>\n",
              "    </tr>\n",
              "  </tbody>\n",
              "</table>\n",
              "</div>"
            ],
            "text/plain": [
              "   grade_id grade_name    course_id  ... lesson_num      run_id teacher_id\n",
              "0         7        七年级  3.51119e+06  ...        7.0  2020-02-15       46.0\n",
              "1         7        七年级  3.16327e+06  ...       36.0  2020-02-15       46.0\n",
              "2         7        七年级  3.16328e+06  ...       36.0  2020-02-15       46.0\n",
              "\n",
              "[3 rows x 10 columns]"
            ]
          },
          "metadata": {
            "tags": []
          },
          "execution_count": 280
        }
      ]
    },
    {
      "cell_type": "code",
      "metadata": {
        "id": "fQUKgA1iIGJ3"
      },
      "source": [
        "#merge with subject\n",
        "subject_info = pd.read_excel('/content/drive/MyDrive/INFO7275_Advanced_DB/dataset/subject_list.xlsx')\n",
        "subject_info = subject_info[['subject_id','subject_name']]\n",
        "subject_info.head(3)\n",
        "#merge course_info and course_teacher\n",
        "course_info = pd.merge(left = course_info, right = subject_info, how = 'left', on = 'subject_name')"
      ],
      "execution_count": 282,
      "outputs": []
    },
    {
      "cell_type": "code",
      "metadata": {
        "colab": {
          "base_uri": "https://localhost:8080/",
          "height": 193
        },
        "id": "xKMinkyGH-fL",
        "outputId": "75753dbb-71f5-48ba-91be-8eacf1b5327b"
      },
      "source": [
        "course_info.head(3)"
      ],
      "execution_count": 283,
      "outputs": [
        {
          "output_type": "execute_result",
          "data": {
            "text/html": [
              "<div>\n",
              "<style scoped>\n",
              "    .dataframe tbody tr th:only-of-type {\n",
              "        vertical-align: middle;\n",
              "    }\n",
              "\n",
              "    .dataframe tbody tr th {\n",
              "        vertical-align: top;\n",
              "    }\n",
              "\n",
              "    .dataframe thead th {\n",
              "        text-align: right;\n",
              "    }\n",
              "</style>\n",
              "<table border=\"1\" class=\"dataframe\">\n",
              "  <thead>\n",
              "    <tr style=\"text-align: right;\">\n",
              "      <th></th>\n",
              "      <th>grade_id</th>\n",
              "      <th>grade_name</th>\n",
              "      <th>course_id</th>\n",
              "      <th>course_name</th>\n",
              "      <th>subject_name</th>\n",
              "      <th>start_time</th>\n",
              "      <th>end_time</th>\n",
              "      <th>lesson_num</th>\n",
              "      <th>run_id</th>\n",
              "      <th>teacher_id</th>\n",
              "      <th>subject_id</th>\n",
              "    </tr>\n",
              "  </thead>\n",
              "  <tbody>\n",
              "    <tr>\n",
              "      <th>0</th>\n",
              "      <td>7</td>\n",
              "      <td>七年级</td>\n",
              "      <td>3.51119e+06</td>\n",
              "      <td>初一语文题型技巧特训班</td>\n",
              "      <td>语文</td>\n",
              "      <td>2020-03-07</td>\n",
              "      <td>2020-03-10</td>\n",
              "      <td>7.0</td>\n",
              "      <td>2020-02-15</td>\n",
              "      <td>46.0</td>\n",
              "      <td>8.0</td>\n",
              "    </tr>\n",
              "    <tr>\n",
              "      <th>1</th>\n",
              "      <td>7</td>\n",
              "      <td>七年级</td>\n",
              "      <td>3.16327e+06</td>\n",
              "      <td>初一语文春季系统班（周五18:00）</td>\n",
              "      <td>语文</td>\n",
              "      <td>2020-02-21</td>\n",
              "      <td>2020-06-19</td>\n",
              "      <td>36.0</td>\n",
              "      <td>2020-02-15</td>\n",
              "      <td>46.0</td>\n",
              "      <td>8.0</td>\n",
              "    </tr>\n",
              "    <tr>\n",
              "      <th>2</th>\n",
              "      <td>7</td>\n",
              "      <td>七年级</td>\n",
              "      <td>3.16328e+06</td>\n",
              "      <td>初一语文春季系统班（周六09:00）</td>\n",
              "      <td>语文</td>\n",
              "      <td>2020-02-22</td>\n",
              "      <td>2020-06-20</td>\n",
              "      <td>36.0</td>\n",
              "      <td>2020-02-15</td>\n",
              "      <td>46.0</td>\n",
              "      <td>8.0</td>\n",
              "    </tr>\n",
              "  </tbody>\n",
              "</table>\n",
              "</div>"
            ],
            "text/plain": [
              "   grade_id grade_name    course_id  ...      run_id teacher_id subject_id\n",
              "0         7        七年级  3.51119e+06  ...  2020-02-15       46.0        8.0\n",
              "1         7        七年级  3.16327e+06  ...  2020-02-15       46.0        8.0\n",
              "2         7        七年级  3.16328e+06  ...  2020-02-15       46.0        8.0\n",
              "\n",
              "[3 rows x 11 columns]"
            ]
          },
          "metadata": {
            "tags": []
          },
          "execution_count": 283
        }
      ]
    },
    {
      "cell_type": "code",
      "metadata": {
        "id": "4u850X2fKYWm"
      },
      "source": [
        "course_info['platform_id'] = 1\n",
        "course_info = course_info.drop(columns = ['grade_id','grade_name'])"
      ],
      "execution_count": 290,
      "outputs": []
    },
    {
      "cell_type": "code",
      "metadata": {
        "colab": {
          "base_uri": "https://localhost:8080/",
          "height": 141
        },
        "id": "EQMaavzjNd5s",
        "outputId": "9e75f849-e751-442f-e229-c25dc51956c4"
      },
      "source": [
        "course_info.head(3)"
      ],
      "execution_count": 291,
      "outputs": [
        {
          "output_type": "execute_result",
          "data": {
            "text/html": [
              "<div>\n",
              "<style scoped>\n",
              "    .dataframe tbody tr th:only-of-type {\n",
              "        vertical-align: middle;\n",
              "    }\n",
              "\n",
              "    .dataframe tbody tr th {\n",
              "        vertical-align: top;\n",
              "    }\n",
              "\n",
              "    .dataframe thead th {\n",
              "        text-align: right;\n",
              "    }\n",
              "</style>\n",
              "<table border=\"1\" class=\"dataframe\">\n",
              "  <thead>\n",
              "    <tr style=\"text-align: right;\">\n",
              "      <th></th>\n",
              "      <th>grade_id</th>\n",
              "      <th>course_id</th>\n",
              "      <th>course_name</th>\n",
              "      <th>start_time</th>\n",
              "      <th>end_time</th>\n",
              "      <th>lesson_num</th>\n",
              "      <th>run_id</th>\n",
              "      <th>teacher_id</th>\n",
              "      <th>subject_id</th>\n",
              "      <th>platform_id</th>\n",
              "    </tr>\n",
              "  </thead>\n",
              "  <tbody>\n",
              "    <tr>\n",
              "      <th>0</th>\n",
              "      <td>7</td>\n",
              "      <td>3.51119e+06</td>\n",
              "      <td>初一语文题型技巧特训班</td>\n",
              "      <td>2020-03-07</td>\n",
              "      <td>2020-03-10</td>\n",
              "      <td>7.0</td>\n",
              "      <td>2020-02-15</td>\n",
              "      <td>46.0</td>\n",
              "      <td>8.0</td>\n",
              "      <td>1</td>\n",
              "    </tr>\n",
              "    <tr>\n",
              "      <th>1</th>\n",
              "      <td>7</td>\n",
              "      <td>3.16327e+06</td>\n",
              "      <td>初一语文春季系统班（周五18:00）</td>\n",
              "      <td>2020-02-21</td>\n",
              "      <td>2020-06-19</td>\n",
              "      <td>36.0</td>\n",
              "      <td>2020-02-15</td>\n",
              "      <td>46.0</td>\n",
              "      <td>8.0</td>\n",
              "      <td>1</td>\n",
              "    </tr>\n",
              "    <tr>\n",
              "      <th>2</th>\n",
              "      <td>7</td>\n",
              "      <td>3.16328e+06</td>\n",
              "      <td>初一语文春季系统班（周六09:00）</td>\n",
              "      <td>2020-02-22</td>\n",
              "      <td>2020-06-20</td>\n",
              "      <td>36.0</td>\n",
              "      <td>2020-02-15</td>\n",
              "      <td>46.0</td>\n",
              "      <td>8.0</td>\n",
              "      <td>1</td>\n",
              "    </tr>\n",
              "  </tbody>\n",
              "</table>\n",
              "</div>"
            ],
            "text/plain": [
              "   grade_id    course_id  ... subject_id platform_id\n",
              "0         7  3.51119e+06  ...        8.0           1\n",
              "1         7  3.16327e+06  ...        8.0           1\n",
              "2         7  3.16328e+06  ...        8.0           1\n",
              "\n",
              "[3 rows x 10 columns]"
            ]
          },
          "metadata": {
            "tags": []
          },
          "execution_count": 291
        }
      ]
    },
    {
      "cell_type": "code",
      "metadata": {
        "id": "KBhjL1RuHFva"
      },
      "source": [
        "course_info.to_excel(\"/content/drive/MyDrive/INFO7275_Advanced_DB/dataset/course_yuanfudao_info.xlsx\",index = False)"
      ],
      "execution_count": 292,
      "outputs": []
    }
  ]
}