{
  "nbformat": 4,
  "nbformat_minor": 0,
  "metadata": {
    "colab": {
      "name": "INFO7275_Team2_Create table_insert data.ipynb",
      "provenance": [],
      "collapsed_sections": []
    },
    "kernelspec": {
      "name": "python3",
      "display_name": "Python 3"
    },
    "language_info": {
      "name": "python"
    }
  },
  "cells": [
    {
      "cell_type": "markdown",
      "metadata": {
        "id": "FEg0CsT-SR9n"
      },
      "source": [
        "### Team 2: China's K12 Online Education Data Management System\n",
        "\n",
        "Insert data into Cassandra by using cassandra-driver in python"
      ]
    },
    {
      "cell_type": "code",
      "metadata": {
        "id": "DsQGOS7fjiEs",
        "colab": {
          "base_uri": "https://localhost:8080/"
        },
        "outputId": "75b6c451-f9e6-4a36-d967-c267399fbea0"
      },
      "source": [
        "pip install cassandra-driver"
      ],
      "execution_count": 7,
      "outputs": [
        {
          "output_type": "stream",
          "text": [
            "Collecting cassandra-driver\n",
            "\u001b[?25l  Downloading https://files.pythonhosted.org/packages/5c/85/2b87a18870e6c457a762cea58920a42c5d357b3e9ef3a6f94b978429ec15/cassandra_driver-3.25.0-cp37-cp37m-manylinux1_x86_64.whl (3.8MB)\n",
            "\u001b[K     |████████████████████████████████| 3.8MB 6.4MB/s \n",
            "\u001b[?25hCollecting geomet<0.3,>=0.1\n",
            "  Downloading https://files.pythonhosted.org/packages/c9/81/156ca48f950f833ddc392f8e3677ca50a18cb9d5db38ccb4ecea55a9303f/geomet-0.2.1.post1-py3-none-any.whl\n",
            "Requirement already satisfied: six>=1.9 in /usr/local/lib/python3.7/dist-packages (from cassandra-driver) (1.15.0)\n",
            "Requirement already satisfied: click in /usr/local/lib/python3.7/dist-packages (from geomet<0.3,>=0.1->cassandra-driver) (7.1.2)\n",
            "Installing collected packages: geomet, cassandra-driver\n",
            "Successfully installed cassandra-driver-3.25.0 geomet-0.2.1.post1\n"
          ],
          "name": "stdout"
        }
      ]
    },
    {
      "cell_type": "code",
      "metadata": {
        "colab": {
          "base_uri": "https://localhost:8080/"
        },
        "id": "c66ZZxytIEiz",
        "outputId": "346d4e8a-6df7-4c7b-9c09-bba3120359a4"
      },
      "source": [
        "from google.colab import drive\n",
        "drive.mount('/content/drive')"
      ],
      "execution_count": 5,
      "outputs": [
        {
          "output_type": "stream",
          "text": [
            "Mounted at /content/drive\n"
          ],
          "name": "stdout"
        }
      ]
    },
    {
      "cell_type": "code",
      "metadata": {
        "id": "sr_flE73i0OC"
      },
      "source": [
        "from cassandra.cluster import Cluster\n",
        "from cassandra.auth import PlainTextAuthProvider\n",
        "import pandas as pd"
      ],
      "execution_count": 8,
      "outputs": []
    },
    {
      "cell_type": "markdown",
      "metadata": {
        "id": "2JehKEKysr_V"
      },
      "source": [
        "### Connect to the Cassandra on datastax"
      ]
    },
    {
      "cell_type": "code",
      "metadata": {
        "id": "OPrR2FsdUqzq",
        "colab": {
          "base_uri": "https://localhost:8080/"
        },
        "outputId": "3e03ca89-e2ba-453c-e30d-5b0b5ec5c71f"
      },
      "source": [
        "from cassandra.cluster import Cluster\n",
        "from cassandra.auth import PlainTextAuthProvider\n",
        "\n",
        "cloud_config= {\n",
        "        'secure_connect_bundle': '/content/drive/MyDrive/INFO7275_Advanced_DB/secure-connect-db-info7275.zip'\n",
        "}\n",
        "\n",
        "auth_provider = PlainTextAuthProvider('yangjiaoli@gmail.com', 'NEUinfo7275!')\n",
        "\n",
        "cluster = Cluster(cloud=cloud_config, auth_provider=auth_provider)\n",
        "session = cluster.connect()\n",
        "\n",
        "row = session.execute(\"select release_version from system.local\").one()\n",
        "if row:\n",
        "    print(row[0])\n",
        "else:\n",
        "    print(\"An error occurred.\")"
      ],
      "execution_count": 9,
      "outputs": [
        {
          "output_type": "stream",
          "text": [
            "4.0.0.6811\n"
          ],
          "name": "stdout"
        }
      ]
    },
    {
      "cell_type": "markdown",
      "metadata": {
        "id": "6oaW5P-Ds0zm"
      },
      "source": [
        "set keyspace \"my_keyspace\""
      ]
    },
    {
      "cell_type": "code",
      "metadata": {
        "id": "6W7DED5znfDq"
      },
      "source": [
        "try:\n",
        "    session.set_keyspace(\"info7275\")\n",
        "except Exception as e:\n",
        "    print(e)"
      ],
      "execution_count": 10,
      "outputs": []
    },
    {
      "cell_type": "markdown",
      "metadata": {
        "id": "SBWutiDls_0_"
      },
      "source": [
        "### Create table"
      ]
    },
    {
      "cell_type": "markdown",
      "metadata": {
        "id": "TlrFl-8_Hoi4"
      },
      "source": [
        "1.online platform table"
      ]
    },
    {
      "cell_type": "code",
      "metadata": {
        "id": "7kvIgqwlHoBV"
      },
      "source": [
        "tb_platform = \"\"\"Create table If not exists platform(\n",
        "                                                    platform_id text,\n",
        "                                                    platform_name text,\n",
        "                                                    platform_url text,PRIMARY KEY(platform_id))\"\"\"\n",
        "try:\n",
        "    rows = session.execute(tb_platform)\n",
        "except Exception as e:\n",
        "    print(e)"
      ],
      "execution_count": null,
      "outputs": []
    },
    {
      "cell_type": "markdown",
      "metadata": {
        "id": "l_GoYnpcx4Zk"
      },
      "source": [
        "2.Grade table"
      ]
    },
    {
      "cell_type": "code",
      "metadata": {
        "id": "hOYjVC_Us6Oz"
      },
      "source": [
        "tb_grade = \"Create table If not exists grade(grade_id text,grade_name text,PRIMARY KEY(grade_id))\"\n",
        "try:\n",
        "    rows = session.execute(tb_grade)\n",
        "except Exception as e:\n",
        "    print(e)"
      ],
      "execution_count": null,
      "outputs": []
    },
    {
      "cell_type": "markdown",
      "metadata": {
        "id": "xI-OyCnQx6qg"
      },
      "source": [
        "3.Suject table"
      ]
    },
    {
      "cell_type": "code",
      "metadata": {
        "id": "MSduXA0UwlmZ",
        "colab": {
          "base_uri": "https://localhost:8080/"
        },
        "outputId": "9814f9c3-a83a-41cd-d906-341c0b7e9754"
      },
      "source": [
        "tb_subject = \"\"\"Create table If not exists subject(subject_id text,\n",
        "                                                    subject_name text,\n",
        "                                                    subject_name_eng text,\n",
        "                                                    PRIMARY KEY(subject_id))\"\"\"\n",
        "try:\n",
        "    rows = session.execute(tb_subject)\n",
        "except Exception as e:\n",
        "    print(e)"
      ],
      "execution_count": null,
      "outputs": [
        {
          "output_type": "stream",
          "text": [
            "errors={'e56ade3b-8c5a-445a-bda9-a2208aebce33-us-east-1.db.astra.datastax.com:29042:8d378dba-7367-44a9-9bd5-6c2196dc95fc': 'Client request timeout. See Session.execute[_async](timeout)'}, last_host=e56ade3b-8c5a-445a-bda9-a2208aebce33-us-east-1.db.astra.datastax.com:29042:8d378dba-7367-44a9-9bd5-6c2196dc95fc\n"
          ],
          "name": "stdout"
        }
      ]
    },
    {
      "cell_type": "markdown",
      "metadata": {
        "id": "ldGZ6wpnykl_"
      },
      "source": [
        "3.Course table"
      ]
    },
    {
      "cell_type": "code",
      "metadata": {
        "id": "Km1n_T2UykEN"
      },
      "source": [
        "tb_course = \"\"\"Create table If not exists course(\n",
        "                                                course_id text,\n",
        "                                                course_name text,\n",
        "                                                start_time text,\n",
        "                                                end_time text,\n",
        "                                                lesson_num text,\n",
        "                                                teacher_id text,\n",
        "                                                grade_id text,\n",
        "                                                subject_id text,\n",
        "                                                platform_id  text,\n",
        "                                                run_id text,\n",
        "                                                PRIMARY KEY(course_id))\"\"\"\n",
        "try:\n",
        "    rows = session.execute(tb_course)\n",
        "except Exception as e:\n",
        "    print(e)"
      ],
      "execution_count": 31,
      "outputs": []
    },
    {
      "cell_type": "markdown",
      "metadata": {
        "id": "z-Sy2OUQyDym"
      },
      "source": [
        "4.Teacher table"
      ]
    },
    {
      "cell_type": "code",
      "metadata": {
        "id": "yuSr8ocIx3gu"
      },
      "source": [
        "tb_teacher = \"\"\"Create table If not exists teacher(teacher_id text,\n",
        "                                                    teacher_name text,\n",
        "                                                    teacher_introduce text,\n",
        "                                                    PRIMARY KEY(teacher_id))\"\"\"\n",
        "try:\n",
        "    rows = session.execute(tb_teacher)\n",
        "except Exception as e:\n",
        "    print(e)"
      ],
      "execution_count": 12,
      "outputs": []
    },
    {
      "cell_type": "markdown",
      "metadata": {
        "id": "9LfBfClo1eVI"
      },
      "source": [
        "5.AssistantTeacher table"
      ]
    },
    {
      "cell_type": "code",
      "metadata": {
        "id": "Ypdc1xMV1dnj"
      },
      "source": [
        "tb_assistantTeacher = \"\"\"Create table If not exists assistantteacher(assistantteacher_id text,\n",
        "                                                                    teacher_id text,\n",
        "                                                                    assistantteacher_name text,\n",
        "                                                                    PRIMARY KEY(assistantteacher_id))\"\"\"\n",
        "try:\n",
        "    rows = session.execute(tb_assistantTeacher)\n",
        "except Exception as e:\n",
        "    print(e)"
      ],
      "execution_count": null,
      "outputs": []
    },
    {
      "cell_type": "markdown",
      "metadata": {
        "id": "Vj1BijEmE7od"
      },
      "source": [
        "6.CourseReview table"
      ]
    },
    {
      "cell_type": "code",
      "metadata": {
        "id": "3Wtp2xmQE-6u"
      },
      "source": [
        "tb_course_review = \"\"\"Create table If not exists course_review(course_id text,\n",
        "                                                ranking int,\n",
        "                                                reviews text, \n",
        "                                                PRIMARY KEY(course_id))\"\"\"\n",
        "try:\n",
        "    rows = session.execute(tb_course_review)\n",
        "except Exception as e:\n",
        "    print(e)"
      ],
      "execution_count": null,
      "outputs": []
    },
    {
      "cell_type": "markdown",
      "metadata": {
        "id": "fkYAD2BxXyWm"
      },
      "source": [
        "7.TeacherReview table"
      ]
    },
    {
      "cell_type": "code",
      "metadata": {
        "id": "g7hQsBiOYAa_"
      },
      "source": [
        "tb_teacher_review = \"\"\"Create table If not exists teacher_review(teacher_id text,\n",
        "                                                    ranking int,\n",
        "                                                    review text,\n",
        "                                                    PRIMARY KEY(teacher_id))\"\"\"\n",
        "try:\n",
        "    rows = session.execute(tb_teacher_review)\n",
        "except Exception as e:\n",
        "    print(e)"
      ],
      "execution_count": null,
      "outputs": []
    },
    {
      "cell_type": "markdown",
      "metadata": {
        "id": "iml-1u5NYPqv"
      },
      "source": [
        "8.AssistantTeacherReview table"
      ]
    },
    {
      "cell_type": "code",
      "metadata": {
        "id": "Er3Uq1opYX_8"
      },
      "source": [
        "tb_assistntTeacher_review = \"\"\"Create table If not exists assistantteacher_review(assistantteacher_id text,\n",
        "                                                    ranking int,\n",
        "                                                    review text,\n",
        "                                                    PRIMARY KEY(teacher_id))\"\"\"\n",
        "try:\n",
        "    rows = session.execute(tb_teacher_review)\n",
        "except Exception as e:\n",
        "    print(e)"
      ],
      "execution_count": null,
      "outputs": []
    },
    {
      "cell_type": "markdown",
      "metadata": {
        "id": "QGJ7Il-I7mk7"
      },
      "source": [
        "9.Sales Table"
      ]
    },
    {
      "cell_type": "code",
      "metadata": {
        "id": "C4zIEgI17lzz"
      },
      "source": [
        "tb_sales = \"\"\"Create table If not exists sales(\n",
        "                                                course_id text, \n",
        "                                                price text,          \n",
        "                                                original_price text,   \n",
        "                                                quantity text,       \n",
        "                                                sold_count text,      \n",
        "                                                pre_sale_time text,   \n",
        "                                                start_sale_time text,\n",
        "                                                end_sale_time text,\n",
        "                                                left_count text, \n",
        "                                                sold_out text,                          \n",
        "                                                PRIMARY KEY(course_id))\"\"\"\n",
        "try:\n",
        "    rows = session.execute(tb_sales)\n",
        "except Exception as e:\n",
        "    print(e)"
      ],
      "execution_count": 25,
      "outputs": []
    },
    {
      "cell_type": "markdown",
      "metadata": {
        "id": "ZBc4cuWJ4BNo"
      },
      "source": [
        "### Insert data"
      ]
    },
    {
      "cell_type": "code",
      "metadata": {
        "id": "eY5GFWvVHhNP"
      },
      "source": [
        "import numpy as np"
      ],
      "execution_count": null,
      "outputs": []
    },
    {
      "cell_type": "markdown",
      "metadata": {
        "id": "wMBu_Ik55hfs"
      },
      "source": [
        "1.insert online platform table"
      ]
    },
    {
      "cell_type": "code",
      "metadata": {
        "colab": {
          "base_uri": "https://localhost:8080/",
          "height": 141
        },
        "id": "wAJSf_t1HUt8",
        "outputId": "ad07b2ed-3564-4d9c-f7e9-f4a2920b929b"
      },
      "source": [
        "online_platform = pd.DataFrame(np.array([['1', \"yuanfudao\", \"https://www.yuanfudao.com/\"], \n",
        "                                         ['2', \"genshuixue\",\"https://www.genshuixue.com/\"], \n",
        "                                         ['3', \"youdao\", \"https://ke.youdao.com/\"]]),\n",
        "                               columns=['platform_id', 'platform_name', 'platform_url'])\n",
        "\n",
        "online_platform"
      ],
      "execution_count": null,
      "outputs": [
        {
          "output_type": "execute_result",
          "data": {
            "text/html": [
              "<div>\n",
              "<style scoped>\n",
              "    .dataframe tbody tr th:only-of-type {\n",
              "        vertical-align: middle;\n",
              "    }\n",
              "\n",
              "    .dataframe tbody tr th {\n",
              "        vertical-align: top;\n",
              "    }\n",
              "\n",
              "    .dataframe thead th {\n",
              "        text-align: right;\n",
              "    }\n",
              "</style>\n",
              "<table border=\"1\" class=\"dataframe\">\n",
              "  <thead>\n",
              "    <tr style=\"text-align: right;\">\n",
              "      <th></th>\n",
              "      <th>platform_id</th>\n",
              "      <th>platform_name</th>\n",
              "      <th>platform_url</th>\n",
              "    </tr>\n",
              "  </thead>\n",
              "  <tbody>\n",
              "    <tr>\n",
              "      <th>0</th>\n",
              "      <td>1</td>\n",
              "      <td>yuanfudao</td>\n",
              "      <td>https://www.yuanfudao.com/</td>\n",
              "    </tr>\n",
              "    <tr>\n",
              "      <th>1</th>\n",
              "      <td>2</td>\n",
              "      <td>genshuixue</td>\n",
              "      <td>https://www.genshuixue.com/</td>\n",
              "    </tr>\n",
              "    <tr>\n",
              "      <th>2</th>\n",
              "      <td>3</td>\n",
              "      <td>youdao</td>\n",
              "      <td>https://ke.youdao.com/</td>\n",
              "    </tr>\n",
              "  </tbody>\n",
              "</table>\n",
              "</div>"
            ],
            "text/plain": [
              "  platform_id platform_name                 platform_url\n",
              "0           1     yuanfudao   https://www.yuanfudao.com/\n",
              "1           2    genshuixue  https://www.genshuixue.com/\n",
              "2           3        youdao       https://ke.youdao.com/"
            ]
          },
          "metadata": {
            "tags": []
          },
          "execution_count": 12
        }
      ]
    },
    {
      "cell_type": "code",
      "metadata": {
        "id": "EzP5xmhKQZ2S"
      },
      "source": [
        "for index, platform_column in online_platform.iterrows():\n",
        "    try:\n",
        "        query = \"\"\"INSERT INTO platform (\n",
        "                                        platform_id,\n",
        "                                        platform_name,\n",
        "                                        platform_url) \n",
        "                                        VALUES ('{0}', '{1}','{2}');\"\"\".format(platform_column['platform_id'],platform_column['platform_name'],platform_column['platform_url'])\n",
        "        session.execute(query)\n",
        "    except Exception as e:\n",
        "        print(e)"
      ],
      "execution_count": null,
      "outputs": []
    },
    {
      "cell_type": "markdown",
      "metadata": {
        "id": "tkzqLkU05o5V"
      },
      "source": [
        "2.insert grade table;"
      ]
    },
    {
      "cell_type": "code",
      "metadata": {
        "colab": {
          "base_uri": "https://localhost:8080/",
          "height": 202
        },
        "id": "Je8yQC7g7Dl6",
        "outputId": "b3d49d8d-1285-4272-d41e-2cee6ce61d96"
      },
      "source": [
        "grade_info = pd.read_excel('/content/drive/MyDrive/INFO7275_Advanced_DB/dataset/grade_list.xlsx')\n",
        "grade_info.head()"
      ],
      "execution_count": null,
      "outputs": [
        {
          "output_type": "execute_result",
          "data": {
            "text/html": [
              "<div>\n",
              "<style scoped>\n",
              "    .dataframe tbody tr th:only-of-type {\n",
              "        vertical-align: middle;\n",
              "    }\n",
              "\n",
              "    .dataframe tbody tr th {\n",
              "        vertical-align: top;\n",
              "    }\n",
              "\n",
              "    .dataframe thead th {\n",
              "        text-align: right;\n",
              "    }\n",
              "</style>\n",
              "<table border=\"1\" class=\"dataframe\">\n",
              "  <thead>\n",
              "    <tr style=\"text-align: right;\">\n",
              "      <th></th>\n",
              "      <th>grade_id</th>\n",
              "      <th>grade_name</th>\n",
              "    </tr>\n",
              "  </thead>\n",
              "  <tbody>\n",
              "    <tr>\n",
              "      <th>0</th>\n",
              "      <td>1</td>\n",
              "      <td>一年级</td>\n",
              "    </tr>\n",
              "    <tr>\n",
              "      <th>1</th>\n",
              "      <td>2</td>\n",
              "      <td>二年级</td>\n",
              "    </tr>\n",
              "    <tr>\n",
              "      <th>2</th>\n",
              "      <td>3</td>\n",
              "      <td>三年级</td>\n",
              "    </tr>\n",
              "    <tr>\n",
              "      <th>3</th>\n",
              "      <td>4</td>\n",
              "      <td>四年级</td>\n",
              "    </tr>\n",
              "    <tr>\n",
              "      <th>4</th>\n",
              "      <td>5</td>\n",
              "      <td>五年级</td>\n",
              "    </tr>\n",
              "  </tbody>\n",
              "</table>\n",
              "</div>"
            ],
            "text/plain": [
              "   grade_id grade_name\n",
              "0         1        一年级\n",
              "1         2        二年级\n",
              "2         3        三年级\n",
              "3         4        四年级\n",
              "4         5        五年级"
            ]
          },
          "metadata": {
            "tags": []
          },
          "execution_count": 18
        }
      ]
    },
    {
      "cell_type": "code",
      "metadata": {
        "id": "0Dje6Rhs7Krb"
      },
      "source": [
        "for index, tmp_row in grade_info.iterrows():\n",
        "    try:\n",
        "        query = \"\"\"INSERT INTO grade(\n",
        "                                    grade_id,\n",
        "                                    grade_name)\n",
        "                                    VALUES ('{0}', '{1}');\"\"\".format(tmp_row['grade_id'],tmp_row['grade_name'])\n",
        "        session.execute(query)\n",
        "    except Exception as e:\n",
        "        print(e)"
      ],
      "execution_count": null,
      "outputs": []
    },
    {
      "cell_type": "markdown",
      "metadata": {
        "id": "geI-_z0S8KKl"
      },
      "source": [
        "3.subject table"
      ]
    },
    {
      "cell_type": "code",
      "metadata": {
        "colab": {
          "base_uri": "https://localhost:8080/",
          "height": 141
        },
        "id": "ts8Z77Zb8HFl",
        "outputId": "815f9a24-1ef3-4fb7-e069-d674667cca3c"
      },
      "source": [
        "subject_info = pd.read_excel('/content/drive/MyDrive/INFO7275_Advanced_DB/dataset/subject_list.xlsx')\n",
        "subject_info.head(3)"
      ],
      "execution_count": null,
      "outputs": [
        {
          "output_type": "execute_result",
          "data": {
            "text/html": [
              "<div>\n",
              "<style scoped>\n",
              "    .dataframe tbody tr th:only-of-type {\n",
              "        vertical-align: middle;\n",
              "    }\n",
              "\n",
              "    .dataframe tbody tr th {\n",
              "        vertical-align: top;\n",
              "    }\n",
              "\n",
              "    .dataframe thead th {\n",
              "        text-align: right;\n",
              "    }\n",
              "</style>\n",
              "<table border=\"1\" class=\"dataframe\">\n",
              "  <thead>\n",
              "    <tr style=\"text-align: right;\">\n",
              "      <th></th>\n",
              "      <th>subject_id</th>\n",
              "      <th>subject_name</th>\n",
              "      <th>subject_name_eng</th>\n",
              "    </tr>\n",
              "  </thead>\n",
              "  <tbody>\n",
              "    <tr>\n",
              "      <th>0</th>\n",
              "      <td>9</td>\n",
              "      <td>数学</td>\n",
              "      <td>math</td>\n",
              "    </tr>\n",
              "    <tr>\n",
              "      <th>1</th>\n",
              "      <td>1</td>\n",
              "      <td>政治</td>\n",
              "      <td>politics</td>\n",
              "    </tr>\n",
              "    <tr>\n",
              "      <th>2</th>\n",
              "      <td>2</td>\n",
              "      <td>地理</td>\n",
              "      <td>geography</td>\n",
              "    </tr>\n",
              "  </tbody>\n",
              "</table>\n",
              "</div>"
            ],
            "text/plain": [
              "   subject_id subject_name subject_name_eng\n",
              "0           9           数学             math\n",
              "1           1           政治         politics\n",
              "2           2           地理        geography"
            ]
          },
          "metadata": {
            "tags": []
          },
          "execution_count": 35
        }
      ]
    },
    {
      "cell_type": "code",
      "metadata": {
        "id": "hbfl3ms2904I"
      },
      "source": [
        "for index, tmp_row in subject_info.iterrows():\n",
        "    try:\n",
        "        query = \"\"\"INSERT INTO subject(\n",
        "                                    subject_id,\n",
        "                                    subject_name,\n",
        "                                    subject_name_eng)\n",
        "                                    VALUES ('{0}', '{1}','{2}');\"\"\".format(tmp_row['subject_id'],tmp_row['subject_name'],tmp_row['subject_name_eng'])\n",
        "        session.execute(query)\n",
        "    except Exception as e:\n",
        "        print(e)"
      ],
      "execution_count": null,
      "outputs": []
    },
    {
      "cell_type": "markdown",
      "metadata": {
        "id": "IJviGlJeA23b"
      },
      "source": [
        "4.Teacher table"
      ]
    },
    {
      "cell_type": "code",
      "metadata": {
        "id": "1mXVHsFi3dMM"
      },
      "source": [
        "import pandas as pd\n",
        "import numpy as np"
      ],
      "execution_count": 13,
      "outputs": []
    },
    {
      "cell_type": "code",
      "metadata": {
        "colab": {
          "base_uri": "https://localhost:8080/",
          "height": 202
        },
        "id": "3z-eWuLDAgNB",
        "outputId": "a0601e22-677a-400c-9e9e-81d1cc6a878b"
      },
      "source": [
        "teacher_info= pd.read_excel('/content/drive/MyDrive/INFO7275_Advanced_DB/dataset/teacher_info.xlsx')\n",
        "teacher_info.head()"
      ],
      "execution_count": 14,
      "outputs": [
        {
          "output_type": "execute_result",
          "data": {
            "text/html": [
              "<div>\n",
              "<style scoped>\n",
              "    .dataframe tbody tr th:only-of-type {\n",
              "        vertical-align: middle;\n",
              "    }\n",
              "\n",
              "    .dataframe tbody tr th {\n",
              "        vertical-align: top;\n",
              "    }\n",
              "\n",
              "    .dataframe thead th {\n",
              "        text-align: right;\n",
              "    }\n",
              "</style>\n",
              "<table border=\"1\" class=\"dataframe\">\n",
              "  <thead>\n",
              "    <tr style=\"text-align: right;\">\n",
              "      <th></th>\n",
              "      <th>teacher_id</th>\n",
              "      <th>teacher_name</th>\n",
              "    </tr>\n",
              "  </thead>\n",
              "  <tbody>\n",
              "    <tr>\n",
              "      <th>0</th>\n",
              "      <td>0</td>\n",
              "      <td>刘薇</td>\n",
              "    </tr>\n",
              "    <tr>\n",
              "      <th>1</th>\n",
              "      <td>1</td>\n",
              "      <td>程磊</td>\n",
              "    </tr>\n",
              "    <tr>\n",
              "      <th>2</th>\n",
              "      <td>2</td>\n",
              "      <td>严攀</td>\n",
              "    </tr>\n",
              "    <tr>\n",
              "      <th>3</th>\n",
              "      <td>4</td>\n",
              "      <td>斯琴</td>\n",
              "    </tr>\n",
              "    <tr>\n",
              "      <th>4</th>\n",
              "      <td>5</td>\n",
              "      <td>满晓桐</td>\n",
              "    </tr>\n",
              "  </tbody>\n",
              "</table>\n",
              "</div>"
            ],
            "text/plain": [
              "   teacher_id teacher_name\n",
              "0           0           刘薇\n",
              "1           1           程磊\n",
              "2           2           严攀\n",
              "3           4           斯琴\n",
              "4           5          满晓桐"
            ]
          },
          "metadata": {
            "tags": []
          },
          "execution_count": 14
        }
      ]
    },
    {
      "cell_type": "code",
      "metadata": {
        "id": "PzXnJi8PCpVO"
      },
      "source": [
        "for index, tmp_row in teacher_info.iterrows():\n",
        "    try:\n",
        "        query = \"\"\"INSERT INTO teacher(\n",
        "                                    teacher_id,\n",
        "                                    teacher_name)\n",
        "                                    VALUES ('{0}', '{1}');\"\"\".format(tmp_row['teacher_id'],tmp_row['teacher_name'])\n",
        "        session.execute(query)\n",
        "    except Exception as e:\n",
        "        print(e)"
      ],
      "execution_count": 15,
      "outputs": []
    },
    {
      "cell_type": "markdown",
      "metadata": {
        "id": "zn2DouPM7NnK"
      },
      "source": [
        "5.Course Sales table"
      ]
    },
    {
      "cell_type": "code",
      "metadata": {
        "colab": {
          "base_uri": "https://localhost:8080/",
          "height": 141
        },
        "id": "j_x1MXGA7N62",
        "outputId": "d2757cae-b8d9-4d34-e06c-9acdd19323af"
      },
      "source": [
        "sales_info = pd.read_excel('/content/drive/MyDrive/INFO7275_Advanced_DB/dataset/sales_info.xlsx')\n",
        "sales_info.head(3)"
      ],
      "execution_count": 19,
      "outputs": [
        {
          "output_type": "execute_result",
          "data": {
            "text/html": [
              "<div>\n",
              "<style scoped>\n",
              "    .dataframe tbody tr th:only-of-type {\n",
              "        vertical-align: middle;\n",
              "    }\n",
              "\n",
              "    .dataframe tbody tr th {\n",
              "        vertical-align: top;\n",
              "    }\n",
              "\n",
              "    .dataframe thead th {\n",
              "        text-align: right;\n",
              "    }\n",
              "</style>\n",
              "<table border=\"1\" class=\"dataframe\">\n",
              "  <thead>\n",
              "    <tr style=\"text-align: right;\">\n",
              "      <th></th>\n",
              "      <th>course_id</th>\n",
              "      <th>price</th>\n",
              "      <th>original_price</th>\n",
              "      <th>quantity</th>\n",
              "      <th>sold_count</th>\n",
              "      <th>pre_sale_time</th>\n",
              "      <th>start_sale_time</th>\n",
              "      <th>end_sale_time</th>\n",
              "      <th>left_count</th>\n",
              "      <th>sold_out</th>\n",
              "    </tr>\n",
              "  </thead>\n",
              "  <tbody>\n",
              "    <tr>\n",
              "      <th>0</th>\n",
              "      <td>3511191</td>\n",
              "      <td>9</td>\n",
              "      <td>299</td>\n",
              "      <td>80</td>\n",
              "      <td>7</td>\n",
              "      <td>NaN</td>\n",
              "      <td>NaN</td>\n",
              "      <td>2020-03-01</td>\n",
              "      <td>73</td>\n",
              "      <td>0</td>\n",
              "    </tr>\n",
              "    <tr>\n",
              "      <th>1</th>\n",
              "      <td>3163273</td>\n",
              "      <td>1200</td>\n",
              "      <td>0</td>\n",
              "      <td>30</td>\n",
              "      <td>26</td>\n",
              "      <td>2019-10-26</td>\n",
              "      <td>2019-10-26</td>\n",
              "      <td>2020-04-07</td>\n",
              "      <td>4</td>\n",
              "      <td>0</td>\n",
              "    </tr>\n",
              "    <tr>\n",
              "      <th>2</th>\n",
              "      <td>3163275</td>\n",
              "      <td>1200</td>\n",
              "      <td>0</td>\n",
              "      <td>30</td>\n",
              "      <td>21</td>\n",
              "      <td>2019-10-26</td>\n",
              "      <td>2019-10-26</td>\n",
              "      <td>2020-04-07</td>\n",
              "      <td>9</td>\n",
              "      <td>0</td>\n",
              "    </tr>\n",
              "  </tbody>\n",
              "</table>\n",
              "</div>"
            ],
            "text/plain": [
              "   course_id  price  original_price  ...  end_sale_time  left_count sold_out\n",
              "0    3511191      9             299  ...     2020-03-01          73        0\n",
              "1    3163273   1200               0  ...     2020-04-07           4        0\n",
              "2    3163275   1200               0  ...     2020-04-07           9        0\n",
              "\n",
              "[3 rows x 10 columns]"
            ]
          },
          "metadata": {
            "tags": []
          },
          "execution_count": 19
        }
      ]
    },
    {
      "cell_type": "code",
      "metadata": {
        "id": "hV9fq5Zx8vWF"
      },
      "source": [
        "for index, tmp_row in sales_info.iterrows():\n",
        "    try:\n",
        "        query = \"\"\"INSERT INTO sales(\n",
        "                                        course_id, \n",
        "                                        price,          \n",
        "                                        original_price,   \n",
        "                                        quantity,       \n",
        "                                        sold_count,      \n",
        "                                        pre_sale_time,   \n",
        "                                        start_sale_time,\n",
        "                                        end_sale_time,\n",
        "                                        left_count, \n",
        "                                        sold_out)\n",
        "                                        VALUES ('{0}', '{1}', '{2}', '{3}', '{4}', '{5}', '{6}', '{7}','{8}','{9}');\"\"\".format(tmp_row['course_id'],tmp_row['price'],\n",
        "                                                                                                                       tmp_row['original_price'],tmp_row['quantity'],\n",
        "                                                                                                                       tmp_row['sold_count'],tmp_row['pre_sale_time'],\n",
        "                                                                                                                       tmp_row['start_sale_time'],tmp_row['end_sale_time'],\n",
        "                                                                                                                       tmp_row['left_count'],tmp_row['sold_out'])\n",
        "        session.execute(query)\n",
        "    except Exception as e:\n",
        "        print(e)"
      ],
      "execution_count": 27,
      "outputs": []
    },
    {
      "cell_type": "markdown",
      "metadata": {
        "id": "C-hxEV8EJpKT"
      },
      "source": [
        "6.Course Table\n"
      ]
    },
    {
      "cell_type": "code",
      "metadata": {
        "colab": {
          "base_uri": "https://localhost:8080/",
          "height": 141
        },
        "id": "iHAKEYpKJtMc",
        "outputId": "5d8a8c8c-7506-40f0-c6c1-3e7277ea2284"
      },
      "source": [
        "course_info = pd.read_excel('/content/drive/MyDrive/INFO7275_Advanced_DB/dataset/course_yuanfudao_info.xlsx')\n",
        "course_info.head(3)"
      ],
      "execution_count": 32,
      "outputs": [
        {
          "output_type": "execute_result",
          "data": {
            "text/html": [
              "<div>\n",
              "<style scoped>\n",
              "    .dataframe tbody tr th:only-of-type {\n",
              "        vertical-align: middle;\n",
              "    }\n",
              "\n",
              "    .dataframe tbody tr th {\n",
              "        vertical-align: top;\n",
              "    }\n",
              "\n",
              "    .dataframe thead th {\n",
              "        text-align: right;\n",
              "    }\n",
              "</style>\n",
              "<table border=\"1\" class=\"dataframe\">\n",
              "  <thead>\n",
              "    <tr style=\"text-align: right;\">\n",
              "      <th></th>\n",
              "      <th>grade_id</th>\n",
              "      <th>course_id</th>\n",
              "      <th>course_name</th>\n",
              "      <th>start_time</th>\n",
              "      <th>end_time</th>\n",
              "      <th>lesson_num</th>\n",
              "      <th>run_id</th>\n",
              "      <th>teacher_id</th>\n",
              "      <th>subject_id</th>\n",
              "      <th>platform_id</th>\n",
              "    </tr>\n",
              "  </thead>\n",
              "  <tbody>\n",
              "    <tr>\n",
              "      <th>0</th>\n",
              "      <td>7</td>\n",
              "      <td>3511191</td>\n",
              "      <td>初一语文题型技巧特训班</td>\n",
              "      <td>2020-03-07</td>\n",
              "      <td>2020-03-10</td>\n",
              "      <td>7</td>\n",
              "      <td>2020-02-15</td>\n",
              "      <td>46.0</td>\n",
              "      <td>8.0</td>\n",
              "      <td>1</td>\n",
              "    </tr>\n",
              "    <tr>\n",
              "      <th>1</th>\n",
              "      <td>7</td>\n",
              "      <td>3163273</td>\n",
              "      <td>初一语文春季系统班（周五18:00）</td>\n",
              "      <td>2020-02-21</td>\n",
              "      <td>2020-06-19</td>\n",
              "      <td>36</td>\n",
              "      <td>2020-02-15</td>\n",
              "      <td>46.0</td>\n",
              "      <td>8.0</td>\n",
              "      <td>1</td>\n",
              "    </tr>\n",
              "    <tr>\n",
              "      <th>2</th>\n",
              "      <td>7</td>\n",
              "      <td>3163275</td>\n",
              "      <td>初一语文春季系统班（周六09:00）</td>\n",
              "      <td>2020-02-22</td>\n",
              "      <td>2020-06-20</td>\n",
              "      <td>36</td>\n",
              "      <td>2020-02-15</td>\n",
              "      <td>46.0</td>\n",
              "      <td>8.0</td>\n",
              "      <td>1</td>\n",
              "    </tr>\n",
              "  </tbody>\n",
              "</table>\n",
              "</div>"
            ],
            "text/plain": [
              "   grade_id  course_id         course_name  ... teacher_id subject_id  platform_id\n",
              "0         7    3511191         初一语文题型技巧特训班  ...       46.0        8.0            1\n",
              "1         7    3163273  初一语文春季系统班（周五18:00）  ...       46.0        8.0            1\n",
              "2         7    3163275  初一语文春季系统班（周六09:00）  ...       46.0        8.0            1\n",
              "\n",
              "[3 rows x 10 columns]"
            ]
          },
          "metadata": {
            "tags": []
          },
          "execution_count": 32
        }
      ]
    },
    {
      "cell_type": "code",
      "metadata": {
        "id": "QapzewisOy5d"
      },
      "source": [
        "for index, tmp_row in course_info.iterrows():\n",
        "    try:\n",
        "        query = \"\"\"INSERT INTO course(\n",
        "                                    course_id,\n",
        "                                    course_name,\n",
        "                                    start_time,\n",
        "                                    end_time,\n",
        "                                    lesson_num,\n",
        "                                    teacher_id,\n",
        "                                    grade_id,\n",
        "                                    subject_id,\n",
        "                                    platform_id,\n",
        "                                    run_id)\n",
        "                                    VALUES ('{0}', '{1}', '{2}', '{3}', '{4}', '{5}', '{6}', '{7}','{8}','{9}');\"\"\".format(tmp_row['course_id'],tmp_row['course_name'],\n",
        "                                                                                                                       tmp_row['start_time'],tmp_row['end_time'],\n",
        "                                                                                                                       tmp_row['lesson_num'],tmp_row['teacher_id'],\n",
        "                                                                                                                       tmp_row['grade_id'],tmp_row['subject_id'],\n",
        "                                                                                                                       tmp_row['platform_id'],tmp_row['run_id'])\n",
        "        session.execute(query)\n",
        "    except Exception as e:\n",
        "        print(e)"
      ],
      "execution_count": 34,
      "outputs": []
    }
  ]
}